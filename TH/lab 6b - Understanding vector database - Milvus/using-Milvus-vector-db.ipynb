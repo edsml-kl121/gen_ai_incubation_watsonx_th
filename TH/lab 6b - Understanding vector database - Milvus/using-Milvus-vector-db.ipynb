{
 "cells": [
  {
   "cell_type": "code",
   "execution_count": 19,
   "id": "f56290bc",
   "metadata": {},
   "outputs": [],
   "source": [
    "from sentence_transformers import SentenceTransformer, models\n",
    "from milvus import default_server, debug_server\n",
    "from pymilvus import connections,utility,Collection,CollectionSchema, FieldSchema,DataType\n",
    "from langchain.vectorstores import Milvus\n",
    "from langchain.embeddings import HuggingFaceEmbeddings, SentenceTransformerEmbeddings\n",
    "from sentence_transformers import models\n",
    "\n",
    "from sklearn.manifold import TSNE\n",
    "from sklearn.neighbors import NearestNeighbors\n",
    "from typing import Literal, Optional, Any\n",
    "import numpy as np\n",
    "import matplotlib.pyplot as plt\n",
    "\n"
   ]
  },
  {
   "cell_type": "markdown",
   "id": "5836f96f",
   "metadata": {},
   "source": [
    "### Milvus Lite version"
   ]
  },
  {
   "cell_type": "markdown",
   "id": "f0d33aef",
   "metadata": {},
   "source": [
    "Either run the code below or in CLI execute:\n",
    "\n",
    "`milvus-server --proxy-port 19531`"
   ]
  },
  {
   "cell_type": "code",
   "execution_count": 24,
   "id": "d0ffcedb-8e54-4cbe-8055-47413289ecbb",
   "metadata": {},
   "outputs": [],
   "source": [
    "# default_server.listen_port"
   ]
  },
  {
   "cell_type": "code",
   "execution_count": 25,
   "id": "07abaa91",
   "metadata": {},
   "outputs": [],
   "source": [
    "# default_server.stop()"
   ]
  },
  {
   "cell_type": "code",
   "execution_count": 26,
   "id": "f9c2adde",
   "metadata": {},
   "outputs": [],
   "source": [
    "def get_model(model_name='airesearch/wangchanberta-base-att-spm-uncased', max_seq_length=768, condition=True):\n",
    "    if condition:\n",
    "        # model_name = 'airesearch/wangchanberta-base-att-spm-uncased'\n",
    "        # model_name = \"hkunlp/instructor-large\"\n",
    "        word_embedding_model = models.Transformer(model_name, max_seq_length=max_seq_length)\n",
    "        pooling_model = models.Pooling(word_embedding_model.get_word_embedding_dimension(),pooling_mode='cls') # We use a [CLS] token as representation\n",
    "        model = SentenceTransformer(modules=[word_embedding_model, pooling_model])\n",
    "    return model"
   ]
  },
  {
   "cell_type": "code",
   "execution_count": 28,
   "id": "a5627470",
   "metadata": {},
   "outputs": [],
   "source": [
    "# connections.connect(host=\"localhost\",port=\"19530\")\n",
    "connections.connect(host='127.0.0.1', port=19531)\n",
    "\n",
    "# model = get_model(model_name=\"intfloat/multilingual-e5-large\", max_seq_length=768)\n",
    "model = get_model(model_name='kornwtp/simcse-model-phayathaibert', max_seq_length=768)\n",
    "# model = get_model(model_name=\"sentence-transformers/paraphrase-multilingual-mpnet-base-v2\", max_seq_length=768)\n",
    "\n"
   ]
  },
  {
   "cell_type": "code",
   "execution_count": 47,
   "id": "aade5ee4",
   "metadata": {},
   "outputs": [],
   "source": [
    "## Define the fields that would go into the schema \n",
    "item_id = FieldSchema(\n",
    "  name=\"id\",\n",
    "  dtype=DataType.INT64,\n",
    "  is_primary=True,\n",
    "  auto_id=True\n",
    ")\n",
    "\n",
    "## you need to provide max_length\n",
    "text = FieldSchema(\n",
    "  name=\"text\",\n",
    "  dtype=DataType.VARCHAR,\n",
    "  max_length= 50000\n",
    "\n",
    ")\n",
    "\n",
    "## one float_vector field mandatory ?\n",
    "embeddings = FieldSchema(\n",
    "  name=\"embeddings\",\n",
    "  dtype=DataType.FLOAT_VECTOR,\n",
    "  dim=768\n",
    ")\n",
    "## define collection schema \n",
    "schema = CollectionSchema(\n",
    "  fields=[item_id, text, embeddings],\n",
    "  description=\"Search clinical trial docs\",\n",
    "  enable_dynamic_field=True\n",
    ")\n",
    "\n",
    "## define the collection\n",
    "collection = Collection(\n",
    "    name=\"leave_policy_th\",\n",
    "    schema=schema,\n",
    "    using='default'\n",
    "    )\n"
   ]
  },
  {
   "cell_type": "code",
   "execution_count": 48,
   "id": "14b575bf",
   "metadata": {},
   "outputs": [],
   "source": [
    "def split_text_with_overlap(text, chunk_size, overlap_size):\n",
    "    chunks = []\n",
    "    start_index = 0\n",
    "\n",
    "    while start_index < len(text):\n",
    "        end_index = start_index + chunk_size\n",
    "        chunk = text[start_index:end_index]\n",
    "        chunks.append(chunk)\n",
    "        start_index += (chunk_size - overlap_size)\n",
    "\n",
    "    return chunks\n",
    "\n",
    "# english = open(\"assets/text/leave_policy_EN.txt\", encoding=\"utf8\").read()\n",
    "thai = open(\"assets/text/leave_policy_TH.txt\", encoding=\"utf8\").read()\n",
    "\n",
    "texts = split_text_with_overlap(thai, 600, 60)"
   ]
  },
  {
   "cell_type": "code",
   "execution_count": 49,
   "id": "912abfa3",
   "metadata": {},
   "outputs": [
    {
     "name": "stdout",
     "output_type": "stream",
     "text": [
      "no of embeddings  20\n",
      "dim of each embedding  768\n"
     ]
    }
   ],
   "source": [
    "embeds = [list(embed) for embed in model.encode(texts)]\n",
    "print(\"no of embeddings \", len(embeds))  ## no of embeddings \n",
    "print(\"dim of each embedding \", len(embeds[0])) ## dim of each embedding"
   ]
  },
  {
   "cell_type": "code",
   "execution_count": 50,
   "id": "1605d091",
   "metadata": {},
   "outputs": [
    {
     "data": {
      "text/plain": [
       "Status(code=0, message=)"
      ]
     },
     "execution_count": 50,
     "metadata": {},
     "output_type": "execute_result"
    }
   ],
   "source": [
    "collection.insert([texts,embeds])\n",
    "collection.create_index(field_name=\"embeddings\",\\\n",
    "                        index_params={\"metric_type\":\"IP\",\"index_type\":\"IVF_FLAT\",\"params\":{\"nlist\":16384}})\n",
    "\n"
   ]
  },
  {
   "cell_type": "code",
   "execution_count": 51,
   "id": "98d81238",
   "metadata": {},
   "outputs": [
    {
     "name": "stdout",
     "output_type": "stream",
     "text": [
      "no. of retrieved docs 20\n",
      "doc 1: \n",
      " รรักษาก่อนคลอดในช่วง 7 เดือนแรกของการตั้งครรภ์จะถือว่าเป็นการลาปกติ ไม่ใช่การลาคลอด\n",
      "• พนักงานหญิงสามารถเริ่มการลาคลอดได้เร็วที่สุดในช่วง 8 สัปดาห์ก่อนวันที่คาดว่าจะคลอด\n",
      "\n",
      "กระบวนการขอลาคลอด\n",
      "• ก่อนการลาคลอด จำเป็นต้องยื่นคำร้องในระบบ HRMS และต้องได้รับการอนุมัติจากผู้จัดการที่รายงาน\n",
      "• พนักงานหญิงที่จะลาคลอดต้องยื่นใบรับรองแพทย์ไปยังแผนกทรัพยากรบุคคล\n",
      "\n",
      "การลาในกรณีของการรับบุตรบุญธรรมหรือการเกิดบุตรผ่านการเช่ามารดา\n",
      "• ในกรณีของการรับบุตรบุญธรรมหรือการเกิดบุตรจากการเช่ามารดา พนักงานหญิงมีสิทธิ์ได้รับการลา 12 สัปดาห์\n",
      "• การลาเหล่านี้สามารถใช้ได้เมื่อเด็กได้เริ่มที่จะอยู่กับผู้ปกครองอย่างแท้จริง\n",
      "\n",
      "กระบวนก \n",
      "\n",
      "doc 2: \n",
      " ิจารณา การลาสามารถทำได้เฉพาะเมื่อบุตรอยู่กับพ่อแม่จริงๆ\n",
      "\n",
      "กระบวนการลาพักผ่อนสำหรับบิดา\n",
      "• ต้องยื่นใบลาพักผ่อนเนื่องจากการเป็นบิดาอย่างน้อย 15 วันก่อนวันที่คาดว่าจะคลอด\n",
      "• พนักงานสามารถเริ่มต้นลาได้ตั้งแต่วันที่คลอดจริง\n",
      "• การลาต้องได้รับการอนุมัติจากผู้จัดการที่รายงานโดยตรง\n",
      "การลาโดยไม่ได้รับค่าจ้าง\n",
      "• พนักงานสามารถลาโดยไม่ได้รับค่าจ้างในกรณีที่ยอดการลาปัจจุบันหมดแล้วและพนักงานต้องการลาเนื่องจากสถานการณ์ที่ไม่คาดคิด\n",
      "• ในกรณีที่ไม่ได้รับการอนุมัติสำหรับการลาโดยไม่มีค่าจ้าง การขาดงานของพนักงานจะถือว่าเป็นการลางาน\n",
      "• จะดำเนินการวินิจฉัยในกรณีขาดงานโดยไม่ได้รับอนุมัติ\n",
      "• พนักงานจะไม่ได้รับเงินเดือนสำหรับว \n",
      "\n",
      "doc 3: \n",
      " หรับบิดา\n",
      "• การลาโดยไม่ได้รับค่าจ้าง\n",
      "• วันหยุดชดเชย\n",
      "การลาชั่วคราว\n",
      "• พนักงานสามารถใช้การลาชั่วคราวได้สูงสุด 12 วันในหนึ่งปี\n",
      "• การลาชั่วคราวเป็นการลาที่ได้รับค่าจ้าง\n",
      "• พนักงานที่เข้าร่วมงานในระหว่างปีจะได้รับสิทธิ์การลาชั่วคราวตามสัดส่วน\n",
      "• การลาชั่วคราวสามารถลาได้ต่ำสุดครึ่งวันและสูงสุด 4 วัน\n",
      "• การลามากกว่า 4 วันสามารถนำมาใช้เป็นการลาที่ได้รับ\n",
      "• การลาชั่วคราวไม่สามารถนำไปสู้ปีถัดไปได้\n",
      "• การลาชั่วคราวไม่สามารถรวมกับการลาที่ได้รับหรือประเภทการลาอื่น ๆ\n",
      "• ควรยื่นใบขอลาชั่วคราวล่วงหน้าหนึ่งวันและล่วงหน้าหนึ่งสัปดาห์เมื่อยื่นขอลามากกว่า 2 วัน\n",
      "• การลาชั่วคราวที่ไม่ได้ใช้จะหมดอายุในท้ายปี\n",
      "กระบวนการสำหรับ \n",
      "\n",
      "doc 4: \n",
      " ่ได้รับ\n",
      "พนักงานต้องยื่นคำร้องขอลาพักร้อนที่ได้รับล่วงหน้า 15 วัน หลังจากยื่นคำร้องแล้ว การแจ้งเตือนจะถูกส่งไปยังผู้จัดการที่รับผิดชอบโดยตรง เมื่อการลาได้รับการอนุมัติ การแจ้งเตือนจะถูกส่งไปยังพนักงานและแผนกทรัพยากรบุคคล ยอดคงเหลือหลังจากการหักลาจะได้รับการปรับปรุงในระบบ HRMS\n",
      "\n",
      "ลาคลอด\n",
      "• พนักงานหญิงที่ได้รับการยืนยันสถานะทั้งหมดจะมีสิทธิ์ได้รับการลาคลอดตามพระราชบัญญัติสวัสดิการการคลอดปี 2016 พร้อมกับค่าจ้างเต็มจำนวนสำหรับระยะเวลา 26 สัปดาห์ติดต่อกัน (ไม่รวมวันหยุดนักขัตฤกษ์) สำหรับการตั้งครรภ์แต่ละครั้งสูงสุด 2 ครั้ง\n",
      "• การลาที่ใช้เพื่อการรักษาก่อนคลอดในช่วง 7 เดือนแรกของการตั้งครรภ์จะถือว่าเป็นกา \n",
      "\n",
      "doc 5: \n",
      " การอาวุโสสำหรับวันหยุดชดเชย พนักงานที่ทำงานในวันหยุดประจำชาติ/เทศกาล/วันหยุดที่ประกาศไว้สามารถขอลาเพื่อแลกกับการทำงานในวันที่กล่าวถึงได้ ในวันที่พนักงานขอหยุดชดเชย เขา/เธอต้องแจ้งผู้จัดการที่รายงานโดยตรง หลังจากได้รับการอนุมัติแล้ว จะเป็นความรับผิดชอบของผู้จัดการที่รายงานโดยตรงที่จะแจ้งฝ่ายทรัพยากรบุคคลเกี่ยวกับสิ่งนี้\n",
      "\n",
      "นโยบายการลางาน: นโยบายการลางานถูกกำหนดไว้ว่าเป็นการลางานโดยไม่ได้รับค่าจ้างที่ได้รับการอนุมัติอย่างเป็นทางการจากการทำงานสำหรับระยะเวลาที่จำกัดเนื่องจากเหตุผลทางการแพทย์หรือส่วนตัว.\n",
      "\n",
      "กระบวนการนโยบายการลาหยุด:\n",
      "เหตุผลทางการแพทย์: ต้องมีการขออนุมัติลาหยุดจากงานผ่านเครื่องมือ HRMS ค \n",
      "\n",
      "doc 6: \n",
      " ่ได้รับ ไม่สามารถเป็นการลาอย่างไม่เป็นทางการ\n",
      "\n",
      "ประเภทของการลา\n",
      "มีหลายประเภทของการลาที่ได้รับและระบุไว้ในนโยบายการลาประจำปีของบริษัท HR การลาสามารถจัดหมวดหมู่ได้เป็น การลาประจำปีที่ได้รับค่าจ้าง หรือ การลาโดยไม่ได้รับค่าจ้าง บางประเภทของการลาที่ได้รับการอนุมัติและให้แก่พนักงานตามจำนวนวันลาที่มีอยู่จะเป็นการลาที่ได้รับค่าจ้าง หรือ การลาพร้อมค่าจ้าง อย่างไรก็ตาม การลาโดยไม่ได้รับค่าจ้าง หรือ การลาโดยไม่มีค่าจ้างสามารถใช้ได้โดยพนักงานในเวลาฉุกเฉินและเมื่อไม่มีจำนวนวันลาเหลืออยู่\n",
      "\n",
      "• การลาชั่วคราว\n",
      "• การลาที่ได้รับ\n",
      "• การลาคลอด\n",
      "• การลาพักผ่อนสำหรับบิดา\n",
      "• การลาโดยไม่ได้รับค่าจ้าง\n",
      "• วันหยุดชดเชย\n",
      "การลาชั่ว \n",
      "\n",
      "doc 7: \n",
      " ้เมื่อเด็กได้เริ่มที่จะอยู่กับผู้ปกครองอย่างแท้จริง\n",
      "\n",
      "กระบวนการขอลาในกรณีของการรับบุตรบุญธรรมหรือการเกิดบุตรผ่านการเช่ามารดา\n",
      "• ในกรณีที่กล่าวถึงข้างต้นการลาต้องสมัครอย่างน้อย 6 สัปดาห์ก่อนวันรับบุตร\n",
      "• ใบรับรองทางกฎหมายและเอกสารที่ต้องการทั้งหมดต้องส่งให้ HR Paternity Leave\n",
      "• พนักงานชายทุกคนที่ปฏิบัติงานอย่างสม่ำเสมอมีสิทธิ์ได้รับการลาพ่อ\n",
      "• พนักงานสามารถใช้สิทธิ์ลาพ่อได้สูงสุด 7 วัน\n",
      "• การลาพ่อต้องทำภายใน 15 วันหลังจากการเกิดลูก หากไม่ทำจะทำให้สิทธิ์ลาหมดอายุ\n",
      "• การลาต้องเป็นระยะเวลาต่อเนื่อง\n",
      "• ในกรณีของการรับบุตรบุญธรรมหรือการเกิดจากการพิจารณา การลาสามารถทำได้เฉพาะเมื่อบุตรอยู่กับพ่อแม่จริงๆ\n",
      "\n",
      "กระ \n",
      "\n",
      "doc 8: \n",
      " ารแพทย์: ต้องมีการขออนุมัติลาหยุดจากงานผ่านเครื่องมือ HRMS คำขอจะถูกส่งไปยังหัวหน้างานทันทีและหัวหน้าแผนกเพื่อการอนุมัติ พนักงานควรขออนุญาตลาหยุดจากงานอย่างน้อย 20 วันล่วงหน้าเมื่อทราบความต้องการในการลาหยุด ในกรณีที่ลาหยุดจากงานเนื่องจากเหตุผลทางการแพทย์ ต้องมีใบรับรองจากแพทย์ส่งไปยังแผนกทรัพยากรมนุษย์\n",
      "\n",
      "เหตุผลส่วนตัว: พนักงานสามารถขอลาหยุดจากงานได้เมื่อต้องการเนื่องจากเหตุผลที่ไม่สามารถคาดการณ์ได้ จำนวนวันลาหยุดสูงสุดที่สามารถขอได้คือหกสัปดาห์\n",
      "\n",
      "การยกเลิกการลา\n",
      "• การลาที่ได้รับการอนุมัติสามารถถูกยกเลิกได้ขึ้นอยู่กับความต้องการของธุรกิจ\n",
      "• เมื่อการลาถูกยกเลิกโดยผู้จัดการรายงาน การแจ้งเตือนอัตโนมัต \n",
      "\n",
      "doc 9: \n",
      " ู่ วันลาจะถูกเพิ่มเติมในช่วงต้นปี อย่างไรก็ตามสิทธิ์จะขึ้นอยู่กับจำนวนเดือนที่ทำงาน สำหรับทุกเดือนที่ทำงานเสร็จสิ้น 1.75 ของการลาพิเศษจะถูกเพิ่มเข้าในบัญชีของพนักงาน\n",
      "• การลาพิเศษสามารถนำไปสู้ปีถัดไปได้สูงสุด 9 วัน อย่างไรก็ตามสำหรับพนักงานที่มีอยู่ที่ให้บริการมากกว่า 5 ปี สูงสุดสามารถนำไปสู้ได้ 45 วัน การลาเกิน 45 วันจะหมดอายุโดยอัตโนมัติ\n",
      "• พนักงานที่ลาออกจากหน้าที่ของพวกเขา สิทธิ์การลาพิเศษจะคำนวณตามสัดส่วนจนถึงวันทำงานสุดท้าย\n",
      "• สำหรับการคำนวณ LTA พนักงานต้องใช้การลา 5 วันเป็นจำนวนบังคับ (รวมถึงวันหยุด)\n",
      "\n",
      "กระบวนการสำหรับการลาพักร้อนที่ได้รับ\n",
      "พนักงานต้องยื่นคำร้องขอลาพักร้อนที่ได้รับล่วงหน้า 15 \n",
      "\n",
      "doc 10: \n",
      " ของการรักษาสมดุลชีวิตการทำงาน\n",
      "• สามารถนำการลาได้สูงสุด 9 วันไปสู่ปีถัดไป\n",
      "• พนักงานอาจขอลาตามยอดการลาที่มีอยู่ในบัญชีของพวกเขาบนเครื่องมือ HRMS\n",
      "• พนักงานสามารถใช้วันลาที่มีค่าใช้จ่ายได้ขึ้นอยู่กับยอดการลาที่มีอยู่ พนักงานยังสามารถขอลาโดยไม่ได้รับค่าจ้างเมื่อยอดการลาหมดและพนักงานต้องการลาโดยได้รับอนุญาตจากผู้จัดการทันที HOD และ HR\n",
      "• พนักงานที่เข้าร่วมระหว่างปีจะได้รับการลาตามอัตราส่วนในบัญชีการลาของพวกเขาบนเครื่องมือ HRMS\n",
      "• พนักงานไม่ควรลาจนกว่าการลาจะได้รับการอนุมัติจากผู้จัดการที่รายงาน\n",
      "• ถ้าพนักงานขาดงานต่อเนื่อง 7 วันโดยไม่มีข้อมูล ในกรณีนี้พนักงานจะถือว่าได้ออกจากงานตามความต้องการของตนเอง H \n",
      "\n",
      "doc 11: \n",
      " มัติจากผู้จัดการที่รายงานโดยตรงและหัวหน้าแผนก\n",
      "• หลังจากได้รับการอนุมัติจากผู้จัดการที่รายงานโดยตรงและหัวหน้าแผนก พนักงานสามารถลาได้\n",
      "• การลาจะอัปเดตเป็นการสูญเสียค่าจ้างในเครื่องมือ HRMS\n",
      "วันหยุดชดเชย\n",
      "• พนักงานมีสิทธิ์ได้รับวันหยุดชดเชยเมื่อเขา/เธอทำงานในงานที่สำคัญในวันหยุดประจำชาติ/เทศกาล/วันหยุดที่ประกาศไว้\n",
      "• ต้องได้รับการอนุมัติในการทำงานในวันดังกล่าว เช่น วันหยุดประจำชาติ/เทศกาล/วันหยุดที่ประกาศไว้ จากคณะกรรมการอาวุโส\n",
      "• วันหยุดชดเชยต้องใช้ภายในระยะเวลา 1 เดือนมิฉะนั้นจะสูญหาย\n",
      "กระบวนการเพื่อรับค่าชดเชย\n",
      "ต้องได้รับการอนุมัติจากคณะกรรมการอาวุโสสำหรับวันหยุดชดเชย พนักงานที่ทำงานในวันหยุดประจำชาต \n",
      "\n",
      "doc 12: \n",
      " นไปตามข้อกำหนดภายใน 2 วันหลังจากกลับมาปฏิบัติหน้าที่โดยใช้เครื่องมือ HRMS\n",
      "• การลาจะถูกเพิ่มในบัญชีพนักงานในช่วงต้นปีปฏิทิน นั่นคือ มกราคม การลาที่ได้รับจะได้รับการปรับปรุงทุกเดือนสำหรับการลาที่ได้รับระหว่างเดือน จะถูกเพิ่มในอัตรา 1.75 วันต่อเดือน สำหรับพนักงานที่มีอยู่ ยอดการลาที่สะสมจากปีก่อนจะได้รับการปรับปรุงในเดือนมกราคม\n",
      "• พนักงานจะมีสิทธิ์ได้รับการลาเมื่อการทดลองงานเสร็จสิ้น หลังจากยืนยันการลาสำหรับช่วงการทดลองงานจะถูกเพิ่มในบัญชีพนักงาน\n",
      "• พนักงานต้องใช้วันลา 18 วันในหนึ่งปี ควรเป็น EL 12 วันและ CL 6 วัน เพื่อให้บรรลุวัตถุประสงค์ของการรักษาสมดุลชีวิตการทำงาน\n",
      "• สามารถนำการลาได้สูงสุด 9 วัน \n",
      "\n",
      "doc 13: \n",
      " ในกรณีที่ไม่มีการสื่อสารจากพนักงาน บริษัท อาจดำเนินการที่ร้ายแรง\n",
      "• การลาโดยไม่ได้รับการอนุมัติจะถือว่าเป็นการลาโดยไม่ได้รับค่าจ้าง\n",
      "• วันสุดสัปดาห์และวันหยุดใด ๆ ที่อยู่ระหว่างช่วงการลาที่ได้รับการอนุมัติจะไม่ถูกรวมและไม่นับเป็นวันลาในกรณีของการลาชั่วคราวและการลาที่ได้รับ\n",
      "• การลาสำหรับปีถัดไปไม่สามารถใช้ได้ในปีปัจจุบัน\n",
      "• ในกรณีของการลาที่วางแผนไว้ พนักงานมีความรับผิดชอบในการขอลาล่วงหน้า อย่างไรก็ตามในกรณีของการลาที่ไม่ได้วางแผน พนักงานต้องปรับปรุงการลาภายใน 2 วันหลังจากกลับมาปฏิบัติหน้าที่\n",
      "• การลาเพื่อวัตถุประสงค์ของ LTA ควรเป็นการลาที่ได้รับ ไม่สามารถเป็นการลาอย่างไม่เป็นทางการ\n",
      "\n",
      "ประเภทของการลา \n",
      "\n",
      "doc 14: \n",
      " นโยบายการลา: - นโยบายการลาของ HR บริษัท สำหรับพนักงาน\n",
      "• ไม่สามารถเรียกร้องการลาเป็นสิทธิ์ได้ การลาใด ๆ สามารถอนุญาตหรือปฏิเสธได้ขึ้นอยู่กับความต้องการทางธุรกิจ การขาดงานโดยไม่ได้รับอนุญาตอย่างถูกต้องจะถูกดำเนินการทางวินัย ความหมายของการลาคือการไปจากสถานที่สั้น ๆ\n",
      "• ปีปฏิทินสำหรับการลาคือตั้งแต่เดือนมกราคมถึงเดือนธันวาคม\n",
      "• บันทึกการลาของพนักงานทั้งหมดจะถูกบันทึกในเครื่องมือ HRMS\n",
      "• การลาทั้งหมดควรยื่นในเครื่องมือ HRMS ก่อนการลา ในกรณีฉุกเฉินที่ไม่สามารถยื่นการลาล่วงหน้าได้ ควรแจ้งให้ผู้จัดการที่รายงานโดยตรงทราบทางโทรศัพท์ และต้องทำให้เป็นไปตามข้อกำหนดภายใน 2 วันหลังจากกลับมาปฏิบัติหน้าที่โดยใช้เค \n",
      "\n",
      "doc 15: \n",
      " ดงานโดยไม่ได้รับอนุมัติ\n",
      "• พนักงานจะไม่ได้รับเงินเดือนสำหรับวันที่ลาโดยไม่มีค่าจ้าง\n",
      "• พนักงานสามารถลาโดยไม่ได้รับค่าจ้างได้สูงสุด 3 เดือน\n",
      "• พนักงานสามารถขอลาโดยไม่ได้รับค่าจ้างโดยการยื่นใบสมัครผ่านเครื่องมือ HRMS เพื่อรับการอนุมัติจากผู้จัดการที่รายงานโดยตรงและหัวหน้าแผนก\n",
      "• หลังจากได้รับการอนุมัติจากผู้จัดการที่รายงานโดยตรงและหัวหน้าแผนก พนักงานสามารถลาได้\n",
      "• การลาจะอัปเดตเป็นการสูญเสียค่าจ้างในเครื่องมือ HRMS\n",
      "กระบวนการการขอลาโดยไม่ได้รับค่าจ้าง\n",
      "• พนักงานสามารถขอลาโดยไม่ได้รับค่าจ้างได้โดยการยื่นใบสมัครผ่านเครื่องมือ HRMS เพื่อรับการอนุมัติจากผู้จัดการที่รายงานโดยตรงและหัวหน้าแผนก\n",
      "• หลังจากได้รั \n",
      "\n",
      "doc 16: \n",
      " ขยายต้องถูกสมัครใจบนเครื่องมือ HRMS ในกรณีของการวางแผนการขยายเพื่อให้ทั้งผู้จัดการที่รายงานและทรัพยากรมนุษย์ได้รับแจ้งโดยอัตโนมัติ\n",
      "• ยอดการลาจะได้รับการปรับปรุงบนเครื่องมือ HRMS โดยแผนกทรัพยากรมนุษย์\n",
      "• ในกรณีที่พนักงานลาเกินไปโดยไม่ได้รับอนุมัติจะถือว่าเป็นการขาดงาน และจะได้รับการดำเนินการทางวินัย\n",
      "• การลาที่ขยายโดยไม่ได้รับอนุญาตจะถูกจัดเป็นการสูญเสียค่าจ้าง\n",
      "\n",
      "การคำนวณการลาในกรณีลาออก/การเลิกจ้าง\n",
      "ในกรณีที่พนักงานได้ลาออกจากงานหรือเมื่อมีการเลิกจ้างพนักงาน สิทธิการลาจะถูกคำนวณจนถึงวันทำงานสุดท้ายของพนักงานและจะได้รับการจ่ายในการตัดบัญชีอย่างสมบูรณ์และสุดท้ายของพนักงาน\n",
      " \n",
      "\n",
      "doc 17: \n",
      " ในกรณีนี้พนักงานจะถือว่าได้ออกจากงานตามความต้องการของตนเอง HR จะดำเนินการในกรณีนี้ จะออกจดหมายเตือนครั้งแรกถ้าพนักงานไม่กลับมาภายใน 7 วันหลังจากหมดอายุการลาที่ได้รับการอนุมัติ ถ้าไม่มีการตอบสนองจากพนักงานภายใน 3 วันหลังจากการออกจดหมายเตือนครั้งแรก จดหมายเตือนครั้งที่สองจะถูกออก ถ้ายังไม่มีการตอบสนองจากพนักงานที่กล่าวถึง จดหมายการยุติธรรมสุดท้ายจะถูกออกใน 3 วันหลังจากการออกจดหมายเตือนครั้งที่สอง\n",
      "• ในกรณีของโรคร้ายแรงหรือการขาดงานจากงาน พนักงานควรแจ้งผู้จัดการที่รายงานโดยตรงทุกช่วงเวลาเกี่ยวกับสภาพของพวกเขาและวันที่เป็นไปได้ที่จะกลับมา ในกรณีที่ไม่มีการสื่อสารจากพนักงาน บริษัท อาจดำเนินการที่ร้า \n",
      "\n",
      "doc 18: \n",
      " • การลาชั่วคราวที่ไม่ได้ใช้จะหมดอายุในท้ายปี\n",
      "กระบวนการสำหรับการลาชั่วคราว\n",
      "การลาชั่วคราวที่พนักงานยื่นผ่านเครื่องมือ HRMS สำหรับการอนุมัติ การแจ้งเตือนการลาจะถึงผู้จัดการที่รายงานตรงโดยทันที เมื่อได้รับการอนุมัติ การแจ้งเตือนการอนุมัติจะถึงพนักงานและ HR วันลาจะถูกหักจากยอดคงเหลือของพนักงานและยอดคงเหลือล่าสุดจะได้รับการอัปเดตบนเครื่องมือ HRMS\n",
      "\n",
      "การลาที่ได้รับ\n",
      "• ใบสมัครขอลาสำหรับการลาที่ได้รับต้องถึงผู้จัดการที่รายงานล่วงหน้า 15 วัน\n",
      "• สำหรับผู้ที่เข้าร่วมใหม่ที่เข้าร่วมในช่วงกลางปี การลาพิเศษจะได้รับเครดิตตามสัดส่วน\n",
      "• สำหรับพนักงานที่มีอยู่ วันลาจะถูกเพิ่มเติมในช่วงต้นปี อย่างไรก็ตามสิทธิ์จะขึ้นอย \n",
      "\n",
      "doc 19: \n",
      " • เมื่อการลาถูกยกเลิกโดยผู้จัดการรายงาน การแจ้งเตือนอัตโนมัติจะถูกส่งไปยังพนักงานและแผนกทรัพยากรมนุษย์\n",
      "• ยอดการลาจะได้รับการปรับปรุงอย่างเหมาะสมโดยแผนกทรัพยากรมนุษย์\n",
      "\n",
      "การขยายการลา\n",
      "• ในกรณีที่ต้องขยายการลาเนื่องจากสถานการณ์ที่ไม่คาดคิด พนักงานต้องแจ้งผู้จัดการที่รายงานล่วงหน้า; เมื่อการขยายการลาได้รับการอนุมัติจากผู้จัดการที่รายงาน ก็เป็นหน้าที่ของผู้จัดการที่จะแจ้งให้แผนกทรัพยากรมนุษย์ทราบ นี่เป็นกรณีที่ได้บอกการขยายการลาโดยปากเปล่าหรือทางโทรศัพท์ ต้องรับผิดชอบในการปรับปรุงการลาบนเครื่องมือ HRMS เมื่อพนักงานกลับมาปฏิบัติงาน\n",
      "• การลาที่ขยายต้องถูกสมัครใจบนเครื่องมือ HRMS ในกรณีของการวางแผนการขยา \n",
      "\n",
      "doc 20: \n",
      " อย่างสมบูรณ์และสุดท้ายของพนักงาน\n",
      " \n",
      "\n"
     ]
    }
   ],
   "source": [
    "# พนักงานปกติจะได้รับวันลากี่วัน แล้วใช่ยังไง\n",
    "# ถ้าหากว่าฉันจะต้องการลา พักร้อนต้องทำอะไรบ้าง\n",
    "# ถ้าปีนี้ผมลาไม่ครบ ผมจะเอาวันลาไปใช่ปีหน้าได้ไหม แล้วกี่วัน\n",
    "# ลาคลอดได้รับเงินไหม แล้วลาได้นานแค่ไหน\n",
    "\n",
    "query = \"ลาคลอดได้รับเงินไหม แล้วลาได้นานแค่ไหน\"\n",
    "query_encode = [list(i) for i in model.encode([query])]\n",
    "collection = Collection('leave_policy_th')\n",
    "collection.load()\n",
    "documents = collection.search(data=query_encode, anns_field=\"embeddings\", param={\"metric\":\"IP\",\"offset\":0},\n",
    "                  output_fields=[\"text\"], limit=40)\n",
    "\n",
    "print(\"no. of retrieved docs\", len(documents[0]))\n",
    "\n",
    "i = 1\n",
    "for doc in documents[0]:\n",
    "    # print(doc)\n",
    "    # print(doc[0].text)\n",
    "    print(f'doc {i}: \\n', doc.text, \"\\n\")\n",
    "    i += 1\n"
   ]
  },
  {
   "cell_type": "code",
   "execution_count": 45,
   "id": "10d41294",
   "metadata": {},
   "outputs": [],
   "source": [
    "# ## drop the collection, everything is lost.\n",
    "utility.drop_collection(\"leave_policy_th\")"
   ]
  },
  {
   "cell_type": "markdown",
   "id": "072aea10",
   "metadata": {},
   "source": [
    "## Visualizing distance"
   ]
  },
  {
   "cell_type": "code",
   "execution_count": 52,
   "id": "599a0feb",
   "metadata": {},
   "outputs": [],
   "source": [
    "def visualize_embeddings(embeddings_2d: np.ndarray, \n",
    "                         question: Optional[bool] = False, \n",
    "                         neighbors: Optional[np.ndarray] = None) -> None:\n",
    "    \"\"\"\n",
    "    Visualize 384-dimensional embeddings in 2D using t-SNE, label each data point with its index,\n",
    "    and optionally plot a question data point as a red dot with the label 'q'.\n",
    "\n",
    "    Args:\n",
    "        embeddings (numpy.array): An array of shape (num_samples, 384) containing the embeddings.\n",
    "        question (numpy.array, optional): An additional 384-dimensional embedding for the question.\n",
    "                                          Default is None.\n",
    "    \"\"\"\n",
    "\n",
    "    # Scatter plot the 2D embeddings and label each data point with its index\n",
    "    plt.figure(figsize=(10, 8))\n",
    "    num_samples = embeddings_2d[:-1].shape[0]\n",
    "    if neighbors is not None:\n",
    "        for i, (x, y) in enumerate(embeddings_2d[:num_samples]):\n",
    "            if i in neighbors:\n",
    "                plt.scatter(x, y, color='purple', alpha=0.7)\n",
    "                plt.annotate(str(i), xy=(x, y), xytext=(5, 2), textcoords='offset points', color='black')\n",
    "            else:\n",
    "                plt.scatter(x, y, color='blue', alpha=0.7)\n",
    "                plt.annotate(str(i), xy=(x, y), xytext=(5, 2), textcoords='offset points', color='black')\n",
    "    else:\n",
    "        for i, (x, y) in enumerate(embeddings_2d[:num_samples]):\n",
    "            plt.scatter(x, y, color='blue', alpha=0.7)\n",
    "            plt.annotate(str(i), xy=(x, y), xytext=(5, 2), textcoords='offset points', color='black')\n",
    "        \n",
    "    # Plot the question data point if provided\n",
    "    if question:\n",
    "        x, y = embeddings_2d[-1]  # Last point corresponds to the question\n",
    "        plt.scatter(x, y, color='red', label='q')\n",
    "        plt.annotate('q', xy=(x, y), xytext=(5, 2), textcoords='offset points', color='black')\n",
    "\n",
    "    plt.title('t-SNE Visualization of 384-dimensional Embeddings')\n",
    "    plt.xlabel('Dimension 1')\n",
    "    plt.ylabel('Dimension 2')\n",
    "    plt.show()"
   ]
  },
  {
   "cell_type": "code",
   "execution_count": 53,
   "id": "6e899057",
   "metadata": {},
   "outputs": [],
   "source": [
    "# Create a t-SNE model\n",
    "tsne = TSNE(n_components=2, perplexity=5, random_state=42)\n",
    "embeddings_with_question = np.vstack([model.encode(texts), query_encode])\n",
    "embeddings_2d = tsne.fit_transform(embeddings_with_question)"
   ]
  },
  {
   "cell_type": "code",
   "execution_count": 54,
   "id": "a4f5ab3d",
   "metadata": {},
   "outputs": [
    {
     "data": {
      "text/plain": [
       "(21, 2)"
      ]
     },
     "execution_count": 54,
     "metadata": {},
     "output_type": "execute_result"
    }
   ],
   "source": [
    "embeddings_2d.shape"
   ]
  },
  {
   "cell_type": "code",
   "execution_count": 55,
   "id": "e04c3455",
   "metadata": {},
   "outputs": [
    {
     "data": {
      "image/png": "[encoded data removed]",
      "text/plain": [
       "<Figure size 1000x800 with 1 Axes>"
      ]
     },
     "metadata": {},
     "output_type": "display_data"
    }
   ],
   "source": [
    "visualize_embeddings(embeddings_2d=embeddings_2d, question=True)"
   ]
  },
  {
   "cell_type": "code",
   "execution_count": 57,
   "id": "edcee6e3",
   "metadata": {},
   "outputs": [
    {
     "name": "stdout",
     "output_type": "stream",
     "text": [
      "รรักษาก่อนคลอดในช่วง 7 เดือนแรกของการตั้งครรภ์จะถือว่าเป็นการลาปกติ ไม่ใช่การลาคลอด\n",
      "• พนักงานหญิงสามารถเริ่มการลาคลอดได้เร็วที่สุดในช่วง 8 สัปดาห์ก่อนวันที่คาดว่าจะคลอด\n",
      "\n",
      "กระบวนการขอลาคลอด\n",
      "• ก่อนการลาคลอด จำเป็นต้องยื่นคำร้องในระบบ HRMS และต้องได้รับการอนุมัติจากผู้จัดการที่รายงาน\n",
      "• พนักงานหญิงที่จะลาคลอดต้องยื่นใบรับรองแพทย์ไปยังแผนกทรัพยากรบุคคล\n",
      "\n",
      "การลาในกรณีของการรับบุตรบุญธรรมหรือการเกิดบุตรผ่านการเช่ามารดา\n",
      "• ในกรณีของการรับบุตรบุญธรรมหรือการเกิดบุตรจากการเช่ามารดา พนักงานหญิงมีสิทธิ์ได้รับการลา 12 สัปดาห์\n",
      "• การลาเหล่านี้สามารถใช้ได้เมื่อเด็กได้เริ่มที่จะอยู่กับผู้ปกครองอย่างแท้จริง\n",
      "\n",
      "กระบวนก\n",
      "ิจารณา การลาสามารถทำได้เฉพาะเมื่อบุตรอยู่กับพ่อแม่จริงๆ\n",
      "\n",
      "กระบวนการลาพักผ่อนสำหรับบิดา\n",
      "• ต้องยื่นใบลาพักผ่อนเนื่องจากการเป็นบิดาอย่างน้อย 15 วันก่อนวันที่คาดว่าจะคลอด\n",
      "• พนักงานสามารถเริ่มต้นลาได้ตั้งแต่วันที่คลอดจริง\n",
      "• การลาต้องได้รับการอนุมัติจากผู้จัดการที่รายงานโดยตรง\n",
      "การลาโดยไม่ได้รับค่าจ้าง\n",
      "• พนักงานสามารถลาโดยไม่ได้รับค่าจ้างในกรณีที่ยอดการลาปัจจุบันหมดแล้วและพนักงานต้องการลาเนื่องจากสถานการณ์ที่ไม่คาดคิด\n",
      "• ในกรณีที่ไม่ได้รับการอนุมัติสำหรับการลาโดยไม่มีค่าจ้าง การขาดงานของพนักงานจะถือว่าเป็นการลางาน\n",
      "• จะดำเนินการวินิจฉัยในกรณีขาดงานโดยไม่ได้รับอนุมัติ\n",
      "• พนักงานจะไม่ได้รับเงินเดือนสำหรับว\n"
     ]
    }
   ],
   "source": [
    "print(texts[10]) # Nearest\n",
    "print(texts[12]) # Second Nearest"
   ]
  },
  {
   "cell_type": "code",
   "execution_count": 41,
   "id": "c4ec038f",
   "metadata": {},
   "outputs": [
    {
     "data": {
      "text/plain": [
       "20"
      ]
     },
     "execution_count": 41,
     "metadata": {},
     "output_type": "execute_result"
    }
   ],
   "source": [
    "embeddings_2d[:-1].shape[0]"
   ]
  },
  {
   "cell_type": "markdown",
   "id": "6f1e7972",
   "metadata": {},
   "source": [
    "## Using Langchain\n",
    "you can also leverage langchain and Milvus.\n",
    "Documentation - https://python.langchain.com/docs/integrations/vectorstores/milvus"
   ]
  }
 ],
 "metadata": {
  "kernelspec": {
   "display_name": "Python 3 (ipykernel)",
   "language": "python",
   "name": "python3"
  },
  "language_info": {
   "codemirror_mode": {
    "name": "ipython",
    "version": 3
   },
   "file_extension": ".py",
   "mimetype": "text/x-python",
   "name": "python",
   "nbconvert_exporter": "python",
   "pygments_lexer": "ipython3",
   "version": "3.11.7"
  }
 },
 "nbformat": 4,
 "nbformat_minor": 5
}
