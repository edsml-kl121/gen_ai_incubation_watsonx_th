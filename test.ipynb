{
 "cells": [
  {
   "cell_type": "code",
   "execution_count": 33,
   "metadata": {},
   "outputs": [],
   "source": [
    "from pptx import Presentation\n",
    "from pptx.enum.lang import MSO_LANGUAGE_ID\n",
    "\n",
    "from genai.credentials import Credentials\n",
    "from genai.schemas import GenerateParams\n",
    "from genai.model import Model\n",
    "\n",
    "import os\n",
    "from dotenv import load_dotenv"
   ]
  },
  {
   "cell_type": "code",
   "execution_count": 188,
   "metadata": {},
   "outputs": [],
   "source": [
    "load_dotenv()\n",
    "\n",
    "api_key = os.getenv(\"GENAI_KEY\", None)\n",
    "api_endpoint = os.getenv(\"GENAI_API\", None)\n",
    "\n",
    "creds = Credentials(api_key,api_endpoint)\n",
    "\n",
    "params = GenerateParams(\n",
    "    decoding_method=\"greedy\",\n",
    "    max_new_tokens=50,\n",
    "    min_new_tokens=1,\n",
    "    stream=False,\n",
    "    temperature=0.05,\n",
    "    top_k=50,\n",
    "    top_p=1,\n",
    "    stop_sequences=[\"\\\\n\\\\n\"]\n",
    ")\n",
    "\n",
    "# llm = Model(model=\"ibm/granite-13b-chat-v1\",credentials=creds, params=params)\n",
    "llm = Model(model=\"meta-llama/llama-2-70b-chat\",credentials=creds, params=params)"
   ]
  },
  {
   "cell_type": "code",
   "execution_count": 207,
   "metadata": {},
   "outputs": [],
   "source": [
    "def buildprompt(text):\n",
    "    return f\"\"\"[INST]be a translator, be concise.\n",
    "    return the translated content only.\n",
    "    dont output note.\n",
    "    keep the time format.\n",
    "    keep watsonx, watson.\n",
    "    please help translate following english to traditional chinese.\n",
    "    <<SYS>>\n",
    "    english:{text}\n",
    "    <</SYS>>\n",
    "    [/INST]\n",
    "    traditional chinese:\"\"\""
   ]
  },
  {
   "cell_type": "code",
   "execution_count": 211,
   "metadata": {},
   "outputs": [
    {
     "name": "stdout",
     "output_type": "stream",
     "text": [
      "Slide 1 of 17\n",
      "Slide 2 of 17\n",
      "Slide 3 of 17\n",
      "Slide 4 of 17\n",
      "Slide 5 of 17\n",
      "Slide 6 of 17\n",
      "Slide 7 of 17\n",
      "Slide 8 of 17\n",
      "Slide 9 of 17\n",
      "Slide 10 of 17\n",
      "Slide 11 of 17\n",
      "Slide 12 of 17\n",
      "Slide 13 of 17\n",
      "Slide 14 of 17\n",
      "Slide 15 of 17\n",
      "Slide 16 of 17\n",
      "Slide 17 of 17\n"
     ]
    }
   ],
   "source": [
    "# input_file_path = \"/Users/yingkitw/Desktop/Incubation program deck tw/8 RAG with watsonx.pptx\"\n",
    "input_file_path =  \"sample.pptx\"\n",
    "\n",
    "sourcelang = MSO_LANGUAGE_ID.ENGLISH_US\n",
    "targetlang = MSO_LANGUAGE_ID.CHINESE_HONG_KONG_SAR\n",
    "\n",
    "presentation = Presentation(input_file_path)\n",
    "\n",
    "slide_number = 1\n",
    "for slide in presentation.slides:\n",
    "    print('Slide {slide_number} of {number_of_slides}'.format(\n",
    "            slide_number=slide_number,\n",
    "            number_of_slides=len(presentation.slides)))\n",
    "    slide_number += 1\n",
    "\n",
    "    # translate comments\n",
    "    if slide.has_notes_slide:\n",
    "        text_frame = slide.notes_slide.notes_text_frame\n",
    "        if len(text_frame.text) > 0:\n",
    "            prompttemplate = buildprompt(text_frame.text)\n",
    "            response = llm.generate([prompttemplate])\n",
    "            slide.notes_slide.notes_text_frame.text = response[0].generated_text\n",
    "\n",
    "\n",
    "    # translate other texts\n",
    "    for shape in slide.shapes:\n",
    "        if shape.has_table:\n",
    "            for cell in shape.table.iter_cells():\n",
    "                engtext = cell.text\n",
    "                prompttemplate = buildprompt(cell.text)\n",
    "                response = llm.generate([prompttemplate])\n",
    "                cell.text = response[0].generated_text\n",
    "                # print(engtext+'->'+response[0].generated_text)\n",
    "\n",
    "        if shape.has_text_frame:\n",
    "            for paragraph in shape.text_frame.paragraphs:\n",
    "                for index, paragraph_run in enumerate(paragraph.runs):\n",
    "                    engtext = paragraph_run.text\n",
    "                    prompttemplate = buildprompt(paragraph_run.text)\n",
    "                    response = llm.generate([prompttemplate])\n",
    "                    paragraph.runs[index].text = response[0].generated_text\n",
    "                    # print(engtext+'->'+response[0].generated_text)\n",
    "                    paragraph.runs[index].font.language_id = targetlang"
   ]
  },
  {
   "cell_type": "code",
   "execution_count": 212,
   "metadata": {},
   "outputs": [],
   "source": [
    "output_file_path = input_file_path.replace(\n",
    "        '.pptx', '-{language_code}.pptx'.format(language_code='tw'))\n",
    "\n",
    "presentation.save(output_file_path)"
   ]
  }
 ],
 "metadata": {
  "kernelspec": {
   "display_name": "Python 3",
   "language": "python",
   "name": "python3"
  },
  "language_info": {
   "codemirror_mode": {
    "name": "ipython",
    "version": 3
   },
   "file_extension": ".py",
   "mimetype": "text/x-python",
   "name": "python",
   "nbconvert_exporter": "python",
   "pygments_lexer": "ipython3",
   "version": "3.11.4"
  }
 },
 "nbformat": 4,
 "nbformat_minor": 2
}
